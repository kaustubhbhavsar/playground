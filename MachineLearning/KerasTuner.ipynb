{
  "cells": [
    {
      "cell_type": "markdown",
      "source": [
        "# Keras Tuner"
      ],
      "metadata": {
        "tags": [],
        "cell_id": "4441540237064e23b52daf63e6deceaf",
        "is_collapsed": false,
        "owner_user_id": "61f7ecd5-97f2-4611-afd3-c247de2940e1",
        "formattedRanges": [],
        "deepnote_app_coordinates": {
          "h": 2,
          "w": 24,
          "x": 0,
          "y": null,
          "maxH": 2,
          "minH": 2
        },
        "deepnote_cell_type": "text-cell-h1",
        "id": "I1snAmO3Xg0Y"
      }
    },
    {
      "cell_type": "markdown",
      "source": [
        "This notebook aims to use the Keras Tuner to find the best set of hyperparameters to train a neural network model.\n"
      ],
      "metadata": {
        "tags": [],
        "cell_id": "d981bb2d54bc4f27936c58dbfba3e3be",
        "deepnote_cell_height": 622.875,
        "deepnote_app_coordinates": {
          "h": 5,
          "w": 24,
          "x": 0,
          "y": 3,
          "minH": 5
        },
        "deepnote_cell_type": "markdown",
        "id": "s4tE743RXg0Z"
      }
    },
    {
      "cell_type": "code",
      "source": [
        "!pip install keras_tuner"
      ],
      "metadata": {
        "id": "7jNJu0EGX2_w"
      },
      "execution_count": null,
      "outputs": []
    },
    {
      "cell_type": "markdown",
      "source": [
        "# Importing Libraries"
      ],
      "metadata": {
        "id": "7wKQGR371ZLK"
      }
    },
    {
      "cell_type": "code",
      "source": [
        "import os\n",
        "import numpy as np\n",
        "import pandas as pd\n",
        "import seaborn as sns\n",
        "import tempfile\n",
        "import tensorflow as tf\n",
        "import urllib.request\n",
        "\n",
        "from keras_tuner import RandomSearch\n",
        "from tensorflow import keras\n",
        "from tensorflow.keras import layers, losses, metrics, optimizers\n",
        "from tensorflow.keras.utils import to_categorical\n",
        "from sklearn.model_selection import train_test_split\n",
        "from sklearn.compose import ColumnTransformer\n",
        "from sklearn.impute import SimpleImputer\n",
        "from sklearn.pipeline import Pipeline\n",
        "from sklearn.preprocessing import OneHotEncoder, LabelEncoder, StandardScaler"
      ],
      "metadata": {
        "tags": [],
        "cell_id": "9b8faa57ba714f049e1d45eff4d14363",
        "source_hash": "7b06b9ed",
        "execution_start": 1656681123121,
        "execution_millis": 8117,
        "deepnote_cell_height": 387,
        "deepnote_app_coordinates": {
          "h": 5,
          "w": 24,
          "x": 0,
          "y": 9,
          "minH": 5
        },
        "deepnote_to_be_reexecuted": false,
        "deepnote_cell_type": "code",
        "id": "h_M-w3GfXg0a"
      },
      "outputs": [],
      "execution_count": null
    },
    {
      "cell_type": "markdown",
      "source": [
        "##  Data Preparation"
      ],
      "metadata": {
        "tags": [],
        "cell_id": "89b17cda4fe54a4495febaf883daa18d",
        "is_collapsed": false,
        "formattedRanges": [],
        "deepnote_app_coordinates": {
          "h": 2,
          "w": 24,
          "x": 0,
          "y": 15,
          "maxH": 2,
          "minH": 2
        },
        "deepnote_cell_type": "text-cell-h2",
        "id": "gBTuiRLPXg0b"
      }
    },
    {
      "cell_type": "code",
      "source": [
        "DATA_DIRECTORY = tempfile.mkdtemp(prefix=\"keras-tuner-data\")\n",
        "DATA_FILEPATH = os.path.join(DATA_DIRECTORY, \"penguins.csv\")\n",
        "\n",
        "urllib.request.urlretrieve(\n",
        "    \"https://storage.googleapis.com/download.tensorflow.org/data/palmer_penguins/penguins_size.csv\", \n",
        "    DATA_FILEPATH\n",
        ")\n",
        "\n",
        "df = pd.read_csv(DATA_FILEPATH)\n",
        "df.info()"
      ],
      "metadata": {
        "tags": [],
        "cell_id": "a2b9bdb830e041ea84c4b26ff15ead76",
        "source_hash": "a4baa45a",
        "execution_start": 1656681134701,
        "execution_millis": 68,
        "deepnote_cell_height": 225,
        "deepnote_app_coordinates": {
          "h": 5,
          "w": 24,
          "x": 0,
          "y": 24,
          "minH": 5
        },
        "deepnote_to_be_reexecuted": false,
        "deepnote_cell_type": "code",
        "colab": {
          "base_uri": "https://localhost:8080/"
        },
        "id": "k4y-IDf5Xg0c",
        "outputId": "632f2f0a-120d-4744-e69d-e66d3dec5f82"
      },
      "outputs": [
        {
          "output_type": "stream",
          "name": "stdout",
          "text": [
            "<class 'pandas.core.frame.DataFrame'>\n",
            "RangeIndex: 344 entries, 0 to 343\n",
            "Data columns (total 7 columns):\n",
            " #   Column             Non-Null Count  Dtype  \n",
            "---  ------             --------------  -----  \n",
            " 0   species            344 non-null    object \n",
            " 1   island             344 non-null    object \n",
            " 2   culmen_length_mm   342 non-null    float64\n",
            " 3   culmen_depth_mm    342 non-null    float64\n",
            " 4   flipper_length_mm  342 non-null    float64\n",
            " 5   body_mass_g        342 non-null    float64\n",
            " 6   sex                334 non-null    object \n",
            "dtypes: float64(4), object(3)\n",
            "memory usage: 18.9+ KB\n"
          ]
        }
      ],
      "execution_count": null
    },
    {
      "cell_type": "markdown",
      "source": [
        "# Pipeline"
      ],
      "metadata": {
        "tags": [],
        "cell_id": "3eef75c6862b450fae8f6fa8ca556f17",
        "deepnote_cell_height": 111.1875,
        "deepnote_app_coordinates": {
          "h": 5,
          "w": 24,
          "x": 0,
          "y": 30,
          "minH": 5
        },
        "deepnote_cell_type": "markdown",
        "id": "bG6wEViJXg0c"
      }
    },
    {
      "cell_type": "code",
      "source": [
        "numerical_columns = [column for column in df.columns if df[column].dtype in [\"int64\", \"float64\"]]\n",
        "\n",
        "numerical_preprocessor = Pipeline(steps=[\n",
        "    (\"imputer\", SimpleImputer(strategy=\"mean\")),\n",
        "    (\"scaler\", StandardScaler())\n",
        "])\n",
        "\n",
        "categorical_preprocessor = Pipeline(steps=[\n",
        "    (\"imputer\", SimpleImputer(strategy=\"most_frequent\")),\n",
        "    (\"onehot\", OneHotEncoder(handle_unknown=\"ignore\"))\n",
        "])\n",
        "\n",
        "preprocessor = ColumnTransformer(\n",
        "    transformers=[\n",
        "        (\"numerical\", numerical_preprocessor, numerical_columns),\n",
        "        (\"categorical\", categorical_preprocessor, [\"island\"]),\n",
        "    ]\n",
        ")"
      ],
      "metadata": {
        "tags": [],
        "cell_id": "19559cb004d449ceb0ad60ec33527f8c",
        "source_hash": "6274c750",
        "execution_start": 1656681139770,
        "execution_millis": 4,
        "deepnote_cell_height": 387,
        "deepnote_app_coordinates": {
          "h": 5,
          "w": 24,
          "x": 0,
          "y": 129,
          "minH": 5
        },
        "deepnote_to_be_reexecuted": false,
        "deepnote_cell_type": "code",
        "id": "rQI4Nl1ZXg0c"
      },
      "outputs": [],
      "execution_count": null
    },
    {
      "cell_type": "markdown",
      "source": [
        "# Split and Transform"
      ],
      "metadata": {
        "tags": [],
        "cell_id": "bdbff51716264046a3fb2784bc60ecaa",
        "deepnote_cell_height": 111.1875,
        "deepnote_app_coordinates": {
          "h": 5,
          "w": 24,
          "x": 0,
          "y": 141,
          "minH": 5
        },
        "deepnote_cell_type": "markdown",
        "id": "IUcMUaejXg0c"
      }
    },
    {
      "cell_type": "code",
      "source": [
        "y = df.species\n",
        "X = df.drop([\"species\", \"sex\"], axis=1)\n",
        "\n",
        "X_train, X_test, y_train, y_test = train_test_split(\n",
        "    X, \n",
        "    y, \n",
        "    test_size=0.20, \n",
        "    random_state=42\n",
        ")\n",
        "\n",
        "X_train = preprocessor.fit_transform(X_train)\n",
        "X_test = preprocessor.transform(X_test)\n",
        "\n",
        "label_encoder = LabelEncoder()\n",
        "\n",
        "y_train = label_encoder.fit_transform(y_train)\n",
        "y_test = label_encoder.transform(y_test)"
      ],
      "metadata": {
        "tags": [],
        "cell_id": "6f6d16c48f4e4136a3f3a38901b74de0",
        "source_hash": "686a1754",
        "execution_start": 1656681275873,
        "execution_millis": 26,
        "deepnote_cell_height": 369,
        "deepnote_app_coordinates": {
          "h": 5,
          "w": 24,
          "x": 0,
          "y": 135,
          "minH": 5
        },
        "deepnote_to_be_reexecuted": false,
        "deepnote_cell_type": "code",
        "id": "cgunNooNXg0c"
      },
      "outputs": [],
      "execution_count": null
    },
    {
      "cell_type": "markdown",
      "source": [
        "## Model\n",
        "\n",
        "A function that builds our model (simple dense network).\n",
        "\n",
        "There are three different hyperparameters that we want to tune:\n",
        "\n",
        "* The number of units of the first dense layer. We want to try `4`, `8`, and `12`.\n",
        "* The number of units of the second dense layer. We are also trying `4`, `8`, and `12`.\n",
        "* The learning rate. Here we want to try `1e-2` and `1e-3`.\n",
        "\n",
        "Notice how we are instrumenting our model with a couple of `hp.Int()` an `hp.Choice()` function. This is how the Tuner knows which parameters to tune.\n",
        "\n"
      ],
      "metadata": {
        "tags": [],
        "cell_id": "ba9398c58fdb4d1fbceaec49b7a98aa9",
        "is_collapsed": false,
        "formattedRanges": [],
        "deepnote_app_coordinates": {
          "h": 2,
          "w": 24,
          "x": 0,
          "y": 36,
          "maxH": 2,
          "minH": 2
        },
        "deepnote_cell_type": "text-cell-h2",
        "id": "IZysygsjXg0d"
      }
    },
    {
      "cell_type": "code",
      "source": [
        "def _model(hp):\n",
        "    model = keras.Sequential([\n",
        "        layers.Dense(\n",
        "            hp.Int(\"dense_1_units\", min_value=4, max_value=12, step=4, default=8),\n",
        "            input_shape=(X_train.shape[1],)\n",
        "            \n",
        "        ),\n",
        "        layers.Dense(\n",
        "            hp.Int(\"dense_2_units\", min_value=4, max_value=12, step=4, default=8), \n",
        "            activation=\"relu\"\n",
        "        ),\n",
        "        layers.Dense(3, activation=\"softmax\"),\n",
        "    ])\n",
        "\n",
        "    model.compile(\n",
        "        optimizer=optimizers.Adam(\n",
        "            hp.Choice(\"learning_rate\", values=[1e-2, 1e-3])\n",
        "        ),\n",
        "        loss=\"categorical_crossentropy\",\n",
        "        metrics=[\"accuracy\"]\n",
        "    )\n",
        "\n",
        "    return model"
      ],
      "metadata": {
        "tags": [],
        "cell_id": "9bc72239dcfe4564887eee7b6e0338c0",
        "source_hash": "48f860ce",
        "execution_start": 1656681277172,
        "execution_millis": 3,
        "deepnote_cell_height": 477,
        "deepnote_app_coordinates": {
          "h": 5,
          "w": 24,
          "x": 0,
          "y": 45,
          "minH": 5
        },
        "deepnote_to_be_reexecuted": false,
        "deepnote_cell_type": "code",
        "id": "cfkhgDsLXg0d"
      },
      "outputs": [],
      "execution_count": null
    },
    {
      "cell_type": "markdown",
      "source": [
        "# Hyperparameter Tuning\n",
        "\n",
        "Instantiating the tuner using the RandomSearch strategy.\n",
        "\n",
        "The way the tunner will determine the best model is by looking at the validation accuracy and we are going to be running 10 trials.\n",
        "\n",
        "Then, we can kick off the search. The signature of the `search()` function is the same as the `model.fit()` function in Keras.\n",
        "\n",
        "Finally, we can print the results of the tuning process. They will be sorted with the best hyperparameter values at the top."
      ],
      "metadata": {
        "tags": [],
        "cell_id": "c4734c04b2f54d3d92a5cca7f725234c",
        "deepnote_cell_height": 169.984375,
        "deepnote_app_coordinates": {
          "h": 5,
          "w": 24,
          "x": 0,
          "y": 54,
          "minH": 5
        },
        "deepnote_cell_type": "markdown",
        "id": "7cJTGXCVXg0d"
      }
    },
    {
      "cell_type": "code",
      "source": [
        "tuner = RandomSearch(\n",
        "    _model,\n",
        "    objective=\"val_accuracy\",\n",
        "    max_trials=10,\n",
        "    overwrite=True,\n",
        "    directory=\"keras-tuner\",\n",
        "    project_name=\"keras-tuner-example\",\n",
        ")\n",
        "\n",
        "tuner.search_space_summary()\n",
        "\n",
        "tuner.search(\n",
        "    X_train[:,:], \n",
        "    to_categorical(y_train), \n",
        "    epochs=5, \n",
        "    validation_data=(X_test[:,:], to_categorical(y_test))\n",
        ")\n",
        "\n",
        "tuner.results_summary()"
      ],
      "metadata": {
        "tags": [],
        "cell_id": "75ccd09d1f6f41a1a8c8b06ebee10b53",
        "source_hash": "19820f80",
        "execution_start": 1656681279463,
        "execution_millis": 180,
        "deepnote_cell_height": 207,
        "deepnote_app_coordinates": {
          "h": 5,
          "w": 24,
          "x": 0,
          "y": 60,
          "minH": 5
        },
        "deepnote_to_be_reexecuted": false,
        "deepnote_cell_type": "code",
        "colab": {
          "base_uri": "https://localhost:8080/"
        },
        "id": "BvUBxNrpXg0d",
        "outputId": "5df0655f-74e8-429b-c752-ee63621947c2"
      },
      "outputs": [
        {
          "output_type": "stream",
          "name": "stdout",
          "text": [
            "Trial 10 Complete [00h 00m 02s]\n",
            "val_accuracy: 0.4202898442745209\n",
            "\n",
            "Best val_accuracy So Far: 0.9855072498321533\n",
            "Total elapsed time: 00h 00m 29s\n",
            "Results summary\n",
            "Results in keras-tuner/keras-tuner-example\n",
            "Showing 10 best trials\n",
            "Objective(name=\"val_accuracy\", direction=\"max\")\n",
            "\n",
            "Trial 02 summary\n",
            "Hyperparameters:\n",
            "dense_1_units: 8\n",
            "dense_2_units: 12\n",
            "learning_rate: 0.01\n",
            "Score: 0.9855072498321533\n",
            "\n",
            "Trial 06 summary\n",
            "Hyperparameters:\n",
            "dense_1_units: 8\n",
            "dense_2_units: 4\n",
            "learning_rate: 0.01\n",
            "Score: 0.9855072498321533\n",
            "\n",
            "Trial 08 summary\n",
            "Hyperparameters:\n",
            "dense_1_units: 12\n",
            "dense_2_units: 4\n",
            "learning_rate: 0.01\n",
            "Score: 0.9855072498321533\n",
            "\n",
            "Trial 05 summary\n",
            "Hyperparameters:\n",
            "dense_1_units: 4\n",
            "dense_2_units: 8\n",
            "learning_rate: 0.01\n",
            "Score: 0.9710144996643066\n",
            "\n",
            "Trial 00 summary\n",
            "Hyperparameters:\n",
            "dense_1_units: 4\n",
            "dense_2_units: 12\n",
            "learning_rate: 0.01\n",
            "Score: 0.8695651888847351\n",
            "\n",
            "Trial 04 summary\n",
            "Hyperparameters:\n",
            "dense_1_units: 4\n",
            "dense_2_units: 4\n",
            "learning_rate: 0.01\n",
            "Score: 0.7536231875419617\n",
            "\n",
            "Trial 03 summary\n",
            "Hyperparameters:\n",
            "dense_1_units: 4\n",
            "dense_2_units: 12\n",
            "learning_rate: 0.001\n",
            "Score: 0.739130437374115\n",
            "\n",
            "Trial 07 summary\n",
            "Hyperparameters:\n",
            "dense_1_units: 12\n",
            "dense_2_units: 8\n",
            "learning_rate: 0.001\n",
            "Score: 0.5652173757553101\n",
            "\n",
            "Trial 01 summary\n",
            "Hyperparameters:\n",
            "dense_1_units: 4\n",
            "dense_2_units: 8\n",
            "learning_rate: 0.001\n",
            "Score: 0.5362318754196167\n",
            "\n",
            "Trial 09 summary\n",
            "Hyperparameters:\n",
            "dense_1_units: 12\n",
            "dense_2_units: 4\n",
            "learning_rate: 0.001\n",
            "Score: 0.4202898442745209\n"
          ]
        }
      ],
      "execution_count": null
    },
    {
      "cell_type": "markdown",
      "source": [
        "# Predictions\n",
        "\n",
        "We use the best model that the tuner found to make predictions on the test set.\n"
      ],
      "metadata": {
        "tags": [],
        "cell_id": "6a84f25b476247aa9e3c376f8bf9c8e2",
        "is_collapsed": false,
        "formattedRanges": [],
        "deepnote_app_coordinates": {
          "h": 2,
          "w": 24,
          "x": 0,
          "y": 102,
          "maxH": 2,
          "minH": 2
        },
        "deepnote_cell_type": "text-cell-h2",
        "id": "ro5M0zbnXg0e"
      }
    },
    {
      "cell_type": "code",
      "source": [
        "best_model = tuner.get_best_models(num_models=1)[0]\n",
        "y_pred = np.argmax(best_model.predict(X_test), axis=-1)\n",
        "accuracy = np.sum(y_pred == y_test) / len(y_test) * 100\n",
        "print(f\"Accuracy: {accuracy:.2f}\")"
      ],
      "metadata": {
        "tags": [],
        "cell_id": "a0026ee5e2cc4ed6add986063919c021",
        "source_hash": "1cb5f7da",
        "execution_start": 1656681313805,
        "execution_millis": 290,
        "deepnote_cell_height": 81,
        "deepnote_app_coordinates": {
          "h": 5,
          "w": 24,
          "x": 0,
          "y": 111,
          "minH": 5
        },
        "deepnote_to_be_reexecuted": false,
        "deepnote_cell_type": "code",
        "colab": {
          "base_uri": "https://localhost:8080/"
        },
        "id": "r-tNVw92Xg0e",
        "outputId": "d12b8d58-0d68-4830-ae75-ec10485977e8"
      },
      "outputs": [
        {
          "output_type": "stream",
          "name": "stdout",
          "text": [
            "3/3 [==============================] - 0s 3ms/step\n",
            "Accuracy: 98.55\n"
          ]
        }
      ],
      "execution_count": null
    }
  ],
  "nbformat": 4,
  "nbformat_minor": 0,
  "metadata": {
    "deepnote": {
      "is_reactive": false
    },
    "orig_nbformat": 2,
    "deepnote_app_layout": "article",
    "deepnote_notebook_id": "565ac720f8134c8b9ec798b3a6f5f0b6",
    "deepnote_execution_queue": [],
    "colab": {
      "provenance": []
    },
    "language_info": {
      "name": "python"
    },
    "kernelspec": {
      "name": "python3",
      "display_name": "Python 3"
    },
    "gpuClass": "standard"
  }
}