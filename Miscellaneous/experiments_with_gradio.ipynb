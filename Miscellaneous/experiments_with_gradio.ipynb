{
  "nbformat": 4,
  "nbformat_minor": 0,
  "metadata": {
    "colab": {
      "provenance": []
    },
    "kernelspec": {
      "name": "python3",
      "display_name": "Python 3"
    },
    "language_info": {
      "name": "python"
    }
  },
  "cells": [
    {
      "cell_type": "markdown",
      "source": [
        "**Experiments with Gradio**"
      ],
      "metadata": {
        "id": "KvfOHjPdyUmO"
      }
    },
    {
      "cell_type": "code",
      "source": [
        "# library installations\n",
        "!pip install transformers\\\n",
        "            diffusers\\\n",
        "            accelerate\\\n",
        "            gradio --quiet"
      ],
      "metadata": {
        "colab": {
          "base_uri": "https://localhost:8080/"
        },
        "id": "tyiwhtS_qW-E",
        "outputId": "cef7370c-6ad5-4e15-e41d-29db7a51d0f7"
      },
      "execution_count": 17,
      "outputs": [
        {
          "output_type": "stream",
          "name": "stdout",
          "text": [
            "\u001b[?25l     \u001b[90m━━━━━━━━━━━━━━━━━━━━━━━━━━━━━━━━━━━━━━━━\u001b[0m \u001b[32m0.0/1.3 MB\u001b[0m \u001b[31m?\u001b[0m eta \u001b[36m-:--:--\u001b[0m\r\u001b[2K     \u001b[91m━━\u001b[0m\u001b[91m╸\u001b[0m\u001b[90m━━━━━━━━━━━━━━━━━━━━━━━━━━━━━━━━━━━━━\u001b[0m \u001b[32m0.1/1.3 MB\u001b[0m \u001b[31m2.8 MB/s\u001b[0m eta \u001b[36m0:00:01\u001b[0m\r\u001b[2K     \u001b[91m━━━━━━━━━━━━━━\u001b[0m\u001b[90m╺\u001b[0m\u001b[90m━━━━━━━━━━━━━━━━━━━━━━━━━\u001b[0m \u001b[32m0.5/1.3 MB\u001b[0m \u001b[31m7.2 MB/s\u001b[0m eta \u001b[36m0:00:01\u001b[0m\r\u001b[2K     \u001b[91m━━━━━━━━━━━━━━━━━━━━━━━━━━━━\u001b[0m\u001b[90m╺\u001b[0m\u001b[90m━━━━━━━━━━━\u001b[0m \u001b[32m0.9/1.3 MB\u001b[0m \u001b[31m9.1 MB/s\u001b[0m eta \u001b[36m0:00:01\u001b[0m\r\u001b[2K     \u001b[91m━━━━━━━━━━━━━━━━━━━━━━━━━━━━━━━━━━━━━━━\u001b[0m\u001b[91m╸\u001b[0m \u001b[32m1.3/1.3 MB\u001b[0m \u001b[31m10.4 MB/s\u001b[0m eta \u001b[36m0:00:01\u001b[0m\r\u001b[2K     \u001b[90m━━━━━━━━━━━━━━━━━━━━━━━━━━━━━━━━━━━━━━━━\u001b[0m \u001b[32m1.3/1.3 MB\u001b[0m \u001b[31m9.3 MB/s\u001b[0m eta \u001b[36m0:00:00\u001b[0m\n",
            "\u001b[?25h"
          ]
        }
      ]
    },
    {
      "cell_type": "code",
      "source": [
        "# import library\n",
        "from transformers import pipeline\n",
        "import gradio as gr\n",
        "from diffusers import DiffusionPipeline\n",
        "import IPython.display\n",
        "import random"
      ],
      "metadata": {
        "id": "klYnaniPziwV"
      },
      "execution_count": 18,
      "outputs": []
    },
    {
      "cell_type": "markdown",
      "source": [
        "# 1. Application: Summarization"
      ],
      "metadata": {
        "id": "uB9gTk8Oxp81"
      }
    },
    {
      "cell_type": "code",
      "source": [
        "# using hugging face pipeline to load default model to summarization\n",
        "get_completion = pipeline(\"summarization\", model=\"sshleifer/distilbart-cnn-12-6\")\n",
        "\n",
        "# test pipeline using following text\n",
        "text = ('''The tower is 324 metres (1,063 ft) tall, about the same height\n",
        "        as an 81-storey building, and the tallest structure in Paris.\n",
        "        Its base is square, measuring 125 metres (410 ft) on each side.\n",
        "        During its construction, the Eiffel Tower surpassed the Washington\n",
        "        Monument to become the tallest man-made structure in the world,\n",
        "        a title it held for 41 years until the Chrysler Building\n",
        "        in New York City was finished in 1930. It was the first structure\n",
        "        to reach a height of 300 metres. Due to the addition of a broadcasting\n",
        "        aerial at the top of the tower in 1957, it is now taller than the\n",
        "        Chrysler Building by 5.2 metres (17 ft). Excluding transmitters, the\n",
        "        Eiffel Tower is the second tallest free-standing structure in France\n",
        "        after the Millau Viaduct.''')\n",
        "\n",
        "get_completion(text)"
      ],
      "metadata": {
        "colab": {
          "base_uri": "https://localhost:8080/"
        },
        "id": "Y7oDbQlbqZRI",
        "outputId": "63ea7816-f9cb-4a29-a2c5-00e8e5928ae0"
      },
      "execution_count": 3,
      "outputs": [
        {
          "output_type": "execute_result",
          "data": {
            "text/plain": [
              "[{'summary_text': ' The tower is 324 metres (1,063 ft) tall, about the same height as an 81-storey building . It is the tallest structure in Paris and the second tallest free-standing structure in France after the Millau Viaduct . It was the first structure in the world to reach a height of 300 metres .'}]"
            ]
          },
          "metadata": {},
          "execution_count": 3
        }
      ]
    },
    {
      "cell_type": "markdown",
      "source": [
        "### 1.1 Basic Gradio"
      ],
      "metadata": {
        "id": "KnKZM-fOx_7-"
      }
    },
    {
      "cell_type": "code",
      "source": [
        "# function to get summarized text only from the output\n",
        "def summarize(input):\n",
        "    output = get_completion(input)\n",
        "    return output[0]['summary_text']\n",
        "\n",
        "gr.close_all() # close previously opened gradio interfaces\n",
        "demo = gr.Interface(fn=summarize, inputs=\"text\", outputs=\"text\")\n",
        "demo.launch()"
      ],
      "metadata": {
        "colab": {
          "base_uri": "https://localhost:8080/",
          "height": 616
        },
        "id": "bN8haGEVu8nF",
        "outputId": "bc4a90e0-b38e-4dd6-d6d9-c44f97a176f2"
      },
      "execution_count": 4,
      "outputs": [
        {
          "output_type": "stream",
          "name": "stdout",
          "text": [
            "Colab notebook detected. To show errors in colab notebook, set debug=True in launch()\n",
            "Note: opening Chrome Inspector may crash demo inside Colab notebooks.\n",
            "\n",
            "To create a public link, set `share=True` in `launch()`.\n"
          ]
        },
        {
          "output_type": "display_data",
          "data": {
            "text/plain": [
              "<IPython.core.display.Javascript object>"
            ],
            "application/javascript": [
              "(async (port, path, width, height, cache, element) => {\n",
              "                        if (!google.colab.kernel.accessAllowed && !cache) {\n",
              "                            return;\n",
              "                        }\n",
              "                        element.appendChild(document.createTextNode(''));\n",
              "                        const url = await google.colab.kernel.proxyPort(port, {cache});\n",
              "\n",
              "                        const external_link = document.createElement('div');\n",
              "                        external_link.innerHTML = `\n",
              "                            <div style=\"font-family: monospace; margin-bottom: 0.5rem\">\n",
              "                                Running on <a href=${new URL(path, url).toString()} target=\"_blank\">\n",
              "                                    https://localhost:${port}${path}\n",
              "                                </a>\n",
              "                            </div>\n",
              "                        `;\n",
              "                        element.appendChild(external_link);\n",
              "\n",
              "                        const iframe = document.createElement('iframe');\n",
              "                        iframe.src = new URL(path, url).toString();\n",
              "                        iframe.height = height;\n",
              "                        iframe.allow = \"autoplay; camera; microphone; clipboard-read; clipboard-write;\"\n",
              "                        iframe.width = width;\n",
              "                        iframe.style.border = 0;\n",
              "                        element.appendChild(iframe);\n",
              "                    })(7860, \"/\", \"100%\", 500, false, window.element)"
            ]
          },
          "metadata": {}
        },
        {
          "output_type": "execute_result",
          "data": {
            "text/plain": []
          },
          "metadata": {},
          "execution_count": 4
        }
      ]
    },
    {
      "cell_type": "markdown",
      "source": [
        "### 1.2 Labelling, Title and Description"
      ],
      "metadata": {
        "id": "Oi0eS5JGxiVf"
      }
    },
    {
      "cell_type": "code",
      "source": [
        "gr.close_all() # close previously opened gradio interfaces\n",
        "demo = gr.Interface(fn=summarize,\n",
        "                    inputs=[gr.Textbox(label=\"Text to summarize\", lines=6)], # adding custom label to textbox and increasing texbox size to 6 lines\n",
        "                    outputs=[gr.Textbox(label=\"Result\", lines=3)], # adding custom label to textbox and increasing texbox size to 3 lines\n",
        "                    title=\"Text summarization with distilbart-cnn\", # adding title application\n",
        "                    description=\"Summarize any text using the `shleifer/distilbart-cnn-12-6` model under the hood!\" # adding description to the application\n",
        "                   )\n",
        "demo.launch()"
      ],
      "metadata": {
        "colab": {
          "base_uri": "https://localhost:8080/",
          "height": 634
        },
        "id": "In9GleifvCa6",
        "outputId": "7485756c-dd79-412b-b04f-27ad071de3fd"
      },
      "execution_count": 5,
      "outputs": [
        {
          "output_type": "stream",
          "name": "stdout",
          "text": [
            "Closing server running on port: 7860\n",
            "Colab notebook detected. To show errors in colab notebook, set debug=True in launch()\n",
            "Note: opening Chrome Inspector may crash demo inside Colab notebooks.\n",
            "\n",
            "To create a public link, set `share=True` in `launch()`.\n"
          ]
        },
        {
          "output_type": "display_data",
          "data": {
            "text/plain": [
              "<IPython.core.display.Javascript object>"
            ],
            "application/javascript": [
              "(async (port, path, width, height, cache, element) => {\n",
              "                        if (!google.colab.kernel.accessAllowed && !cache) {\n",
              "                            return;\n",
              "                        }\n",
              "                        element.appendChild(document.createTextNode(''));\n",
              "                        const url = await google.colab.kernel.proxyPort(port, {cache});\n",
              "\n",
              "                        const external_link = document.createElement('div');\n",
              "                        external_link.innerHTML = `\n",
              "                            <div style=\"font-family: monospace; margin-bottom: 0.5rem\">\n",
              "                                Running on <a href=${new URL(path, url).toString()} target=\"_blank\">\n",
              "                                    https://localhost:${port}${path}\n",
              "                                </a>\n",
              "                            </div>\n",
              "                        `;\n",
              "                        element.appendChild(external_link);\n",
              "\n",
              "                        const iframe = document.createElement('iframe');\n",
              "                        iframe.src = new URL(path, url).toString();\n",
              "                        iframe.height = height;\n",
              "                        iframe.allow = \"autoplay; camera; microphone; clipboard-read; clipboard-write;\"\n",
              "                        iframe.width = width;\n",
              "                        iframe.style.border = 0;\n",
              "                        element.appendChild(iframe);\n",
              "                    })(7860, \"/\", \"100%\", 500, false, window.element)"
            ]
          },
          "metadata": {}
        },
        {
          "output_type": "execute_result",
          "data": {
            "text/plain": []
          },
          "metadata": {},
          "execution_count": 5
        }
      ]
    },
    {
      "cell_type": "markdown",
      "source": [
        "### 1.3 Share Link"
      ],
      "metadata": {
        "id": "7jdd6dnoyn_8"
      }
    },
    {
      "cell_type": "code",
      "source": [
        "gr.close_all() # close previously opened gradio interfaces\n",
        "demo = gr.Interface(fn=summarize,\n",
        "                    inputs=[gr.Textbox(label=\"Text to summarize\", lines=6)], # adding custom label to textbox and increasing texbox size to 6 lines\n",
        "                    outputs=[gr.Textbox(label=\"Result\", lines=3)], # adding custom label to textbox and increasing texbox size to 3 lines\n",
        "                    title=\"Text summarization with distilbart-cnn\", # adding title application\n",
        "                    description=\"Summarize any text using the `shleifer/distilbart-cnn-12-6` model under the hood!\" # adding description to the application\n",
        "                   )\n",
        "demo.launch(share=True) # set 'share' equal to true"
      ],
      "metadata": {
        "colab": {
          "base_uri": "https://localhost:8080/",
          "height": 646
        },
        "id": "tOF6KU0Tyt_y",
        "outputId": "fb374b36-d68e-49f7-8c19-466ed9597aef"
      },
      "execution_count": 6,
      "outputs": [
        {
          "output_type": "stream",
          "name": "stdout",
          "text": [
            "Closing server running on port: 7860\n",
            "Closing server running on port: 7860\n",
            "Colab notebook detected. To show errors in colab notebook, set debug=True in launch()\n",
            "Running on public URL: https://ef34805f3fc742d8f6.gradio.live\n",
            "\n",
            "This share link expires in 72 hours. For free permanent hosting and GPU upgrades, run `gradio deploy` from Terminal to deploy to Spaces (https://huggingface.co/spaces)\n"
          ]
        },
        {
          "output_type": "display_data",
          "data": {
            "text/plain": [
              "<IPython.core.display.HTML object>"
            ],
            "text/html": [
              "<div><iframe src=\"https://ef34805f3fc742d8f6.gradio.live\" width=\"100%\" height=\"500\" allow=\"autoplay; camera; microphone; clipboard-read; clipboard-write;\" frameborder=\"0\" allowfullscreen></iframe></div>"
            ]
          },
          "metadata": {}
        },
        {
          "output_type": "execute_result",
          "data": {
            "text/plain": []
          },
          "metadata": {},
          "execution_count": 6
        }
      ]
    },
    {
      "cell_type": "markdown",
      "source": [
        "# 2. Application: Named-Entity-Recognition"
      ],
      "metadata": {
        "id": "Z7mZsQ8kzNn5"
      }
    },
    {
      "cell_type": "code",
      "source": [
        "# using hugging face pipeline to load model for ner task\n",
        "get_completion = pipeline(\"ner\", model=\"dslim/bert-base-NER\")\n",
        "\n",
        "# test pipeline using following text\n",
        "text = \"My name is Andrew, I'm building DeepLearningAI and I live in California\"\n",
        "\n",
        "get_completion(text)"
      ],
      "metadata": {
        "colab": {
          "base_uri": "https://localhost:8080/"
        },
        "id": "RojtL3VOywBf",
        "outputId": "2235896a-0772-46f2-f059-3420bd1735f8"
      },
      "execution_count": 7,
      "outputs": [
        {
          "output_type": "stream",
          "name": "stderr",
          "text": [
            "Some weights of the model checkpoint at dslim/bert-base-NER were not used when initializing BertForTokenClassification: ['bert.pooler.dense.weight', 'bert.pooler.dense.bias']\n",
            "- This IS expected if you are initializing BertForTokenClassification from the checkpoint of a model trained on another task or with another architecture (e.g. initializing a BertForSequenceClassification model from a BertForPreTraining model).\n",
            "- This IS NOT expected if you are initializing BertForTokenClassification from the checkpoint of a model that you expect to be exactly identical (initializing a BertForSequenceClassification model from a BertForSequenceClassification model).\n",
            "No CUDA runtime is found, using CUDA_HOME='/usr/local/cuda'\n"
          ]
        },
        {
          "output_type": "execute_result",
          "data": {
            "text/plain": [
              "[{'entity': 'B-PER',\n",
              "  'score': 0.9990625,\n",
              "  'index': 4,\n",
              "  'word': 'Andrew',\n",
              "  'start': 11,\n",
              "  'end': 17},\n",
              " {'entity': 'B-ORG',\n",
              "  'score': 0.9927857,\n",
              "  'index': 10,\n",
              "  'word': 'Deep',\n",
              "  'start': 32,\n",
              "  'end': 36},\n",
              " {'entity': 'I-ORG',\n",
              "  'score': 0.99677867,\n",
              "  'index': 11,\n",
              "  'word': '##L',\n",
              "  'start': 36,\n",
              "  'end': 37},\n",
              " {'entity': 'I-ORG',\n",
              "  'score': 0.9954496,\n",
              "  'index': 12,\n",
              "  'word': '##ear',\n",
              "  'start': 37,\n",
              "  'end': 40},\n",
              " {'entity': 'I-ORG',\n",
              "  'score': 0.9959294,\n",
              "  'index': 13,\n",
              "  'word': '##ning',\n",
              "  'start': 40,\n",
              "  'end': 44},\n",
              " {'entity': 'I-ORG',\n",
              "  'score': 0.8917465,\n",
              "  'index': 14,\n",
              "  'word': '##A',\n",
              "  'start': 44,\n",
              "  'end': 45},\n",
              " {'entity': 'I-ORG',\n",
              "  'score': 0.5036115,\n",
              "  'index': 15,\n",
              "  'word': '##I',\n",
              "  'start': 45,\n",
              "  'end': 46},\n",
              " {'entity': 'B-LOC',\n",
              "  'score': 0.99969244,\n",
              "  'index': 20,\n",
              "  'word': 'California',\n",
              "  'start': 61,\n",
              "  'end': 71}]"
            ]
          },
          "metadata": {},
          "execution_count": 7
        }
      ]
    },
    {
      "cell_type": "code",
      "source": [
        "def ner(input):\n",
        "    output = get_completion(input)\n",
        "    return {\"text\": input, \"entities\": output}"
      ],
      "metadata": {
        "id": "P74HNMYF0NOk"
      },
      "execution_count": 8,
      "outputs": []
    },
    {
      "cell_type": "markdown",
      "source": [
        "### 2.1 Examples Tag"
      ],
      "metadata": {
        "id": "v477Ekjn1p8W"
      }
    },
    {
      "cell_type": "code",
      "source": [
        "gr.close_all()\n",
        "demo = gr.Interface(fn=ner,\n",
        "                    inputs=[gr.Textbox(label=\"Text to find entities\", lines=2)],\n",
        "                    outputs=[gr.Textbox(label=\"Text with entities\")],\n",
        "                    title=\"NER with dslim/bert-base-NER\",\n",
        "                    description=\"Find entities using the `dslim/bert-base-NER` model under the hood!\",\n",
        "                    allow_flagging=\"never\", # flagging is turned off\n",
        "                    examples=[\"My name is Andrew and I live in California\", \"My name is Poli and work at HuggingFace\"]) # 'Examples' tag allow for easy to use examples in application\n",
        "demo.launch()"
      ],
      "metadata": {
        "colab": {
          "base_uri": "https://localhost:8080/",
          "height": 755
        },
        "id": "arI57t6Q1GXY",
        "outputId": "2d3777c5-e072-4358-d213-0738264f6b25"
      },
      "execution_count": 16,
      "outputs": [
        {
          "output_type": "stream",
          "name": "stdout",
          "text": [
            "Closing server running on port: 7860\n",
            "Closing server running on port: 7860\n",
            "Closing server running on port: 7860\n",
            "Closing server running on port: 7860\n",
            "Closing server running on port: 7860\n",
            "Closing server running on port: 7860\n",
            "Closing server running on port: 7860\n",
            "Closing server running on port: 7860\n",
            "Colab notebook detected. To show errors in colab notebook, set debug=True in launch()\n",
            "Note: opening Chrome Inspector may crash demo inside Colab notebooks.\n",
            "\n",
            "To create a public link, set `share=True` in `launch()`.\n"
          ]
        },
        {
          "output_type": "display_data",
          "data": {
            "text/plain": [
              "<IPython.core.display.Javascript object>"
            ],
            "application/javascript": [
              "(async (port, path, width, height, cache, element) => {\n",
              "                        if (!google.colab.kernel.accessAllowed && !cache) {\n",
              "                            return;\n",
              "                        }\n",
              "                        element.appendChild(document.createTextNode(''));\n",
              "                        const url = await google.colab.kernel.proxyPort(port, {cache});\n",
              "\n",
              "                        const external_link = document.createElement('div');\n",
              "                        external_link.innerHTML = `\n",
              "                            <div style=\"font-family: monospace; margin-bottom: 0.5rem\">\n",
              "                                Running on <a href=${new URL(path, url).toString()} target=\"_blank\">\n",
              "                                    https://localhost:${port}${path}\n",
              "                                </a>\n",
              "                            </div>\n",
              "                        `;\n",
              "                        element.appendChild(external_link);\n",
              "\n",
              "                        const iframe = document.createElement('iframe');\n",
              "                        iframe.src = new URL(path, url).toString();\n",
              "                        iframe.height = height;\n",
              "                        iframe.allow = \"autoplay; camera; microphone; clipboard-read; clipboard-write;\"\n",
              "                        iframe.width = width;\n",
              "                        iframe.style.border = 0;\n",
              "                        element.appendChild(iframe);\n",
              "                    })(7860, \"/\", \"100%\", 500, false, window.element)"
            ]
          },
          "metadata": {}
        },
        {
          "output_type": "execute_result",
          "data": {
            "text/plain": []
          },
          "metadata": {},
          "execution_count": 16
        }
      ]
    },
    {
      "cell_type": "markdown",
      "source": [
        "### 2.2 Highlighted Text"
      ],
      "metadata": {
        "id": "lfcfJ5G-16i1"
      }
    },
    {
      "cell_type": "code",
      "source": [
        "gr.close_all()\n",
        "demo = gr.Interface(fn=ner,\n",
        "                    inputs=[gr.Textbox(label=\"Text to find entities\", lines=2)],\n",
        "                    outputs=[gr.HighlightedText(label=\"Text with entities\")], # highlighted text displays text that contains spans that are highlighted by category or numerical value.\n",
        "                    title=\"NER with dslim/bert-base-NER\",\n",
        "                    description=\"Find entities using the `dslim/bert-base-NER` model under the hood!\",\n",
        "                    allow_flagging=\"never\",\n",
        "                    examples=[\"My name is Andrew and I live in California\", \"My name is Poli and work at HuggingFace\"])\n",
        "demo.launch()"
      ],
      "metadata": {
        "colab": {
          "base_uri": "https://localhost:8080/",
          "height": 738
        },
        "id": "hiWFRg460i-V",
        "outputId": "2ced4c95-a116-4685-fd02-ba7469b2ce08"
      },
      "execution_count": 15,
      "outputs": [
        {
          "output_type": "stream",
          "name": "stdout",
          "text": [
            "Closing server running on port: 7860\n",
            "Closing server running on port: 7860\n",
            "Closing server running on port: 7860\n",
            "Closing server running on port: 7860\n",
            "Closing server running on port: 7860\n",
            "Closing server running on port: 7860\n",
            "Closing server running on port: 7860\n",
            "Colab notebook detected. To show errors in colab notebook, set debug=True in launch()\n",
            "Note: opening Chrome Inspector may crash demo inside Colab notebooks.\n",
            "\n",
            "To create a public link, set `share=True` in `launch()`.\n"
          ]
        },
        {
          "output_type": "display_data",
          "data": {
            "text/plain": [
              "<IPython.core.display.Javascript object>"
            ],
            "application/javascript": [
              "(async (port, path, width, height, cache, element) => {\n",
              "                        if (!google.colab.kernel.accessAllowed && !cache) {\n",
              "                            return;\n",
              "                        }\n",
              "                        element.appendChild(document.createTextNode(''));\n",
              "                        const url = await google.colab.kernel.proxyPort(port, {cache});\n",
              "\n",
              "                        const external_link = document.createElement('div');\n",
              "                        external_link.innerHTML = `\n",
              "                            <div style=\"font-family: monospace; margin-bottom: 0.5rem\">\n",
              "                                Running on <a href=${new URL(path, url).toString()} target=\"_blank\">\n",
              "                                    https://localhost:${port}${path}\n",
              "                                </a>\n",
              "                            </div>\n",
              "                        `;\n",
              "                        element.appendChild(external_link);\n",
              "\n",
              "                        const iframe = document.createElement('iframe');\n",
              "                        iframe.src = new URL(path, url).toString();\n",
              "                        iframe.height = height;\n",
              "                        iframe.allow = \"autoplay; camera; microphone; clipboard-read; clipboard-write;\"\n",
              "                        iframe.width = width;\n",
              "                        iframe.style.border = 0;\n",
              "                        element.appendChild(iframe);\n",
              "                    })(7860, \"/\", \"100%\", 500, false, window.element)"
            ]
          },
          "metadata": {}
        },
        {
          "output_type": "execute_result",
          "data": {
            "text/plain": []
          },
          "metadata": {},
          "execution_count": 15
        }
      ]
    },
    {
      "cell_type": "markdown",
      "source": [
        "### BONUS"
      ],
      "metadata": {
        "id": "d8SRnEwJ2JMN"
      }
    },
    {
      "cell_type": "code",
      "source": [
        "# adding a helper function to merge tokens\n",
        "def merge_tokens(tokens):\n",
        "    merged_tokens = []\n",
        "    for token in tokens:\n",
        "        if merged_tokens and token['entity'].startswith('I-') and merged_tokens[-1]['entity'].endswith(token['entity'][2:]):\n",
        "            # If current token continues the entity of the last one, merge them\n",
        "            last_token = merged_tokens[-1]\n",
        "            last_token['word'] += token['word'].replace('##', '')\n",
        "            last_token['end'] = token['end']\n",
        "            last_token['score'] = (last_token['score'] + token['score']) / 2\n",
        "        else:\n",
        "            # Otherwise, add the token to the list\n",
        "            merged_tokens.append(token)\n",
        "    return merged_tokens\n",
        "\n",
        "def ner(input):\n",
        "    output = get_completion(input)\n",
        "    merged_tokens = merge_tokens(output)\n",
        "    return {\"text\": input, \"entities\": merged_tokens}\n",
        "\n",
        "get_completion(\"My name is Poli, I live in Vienna and work at HuggingFace\")"
      ],
      "metadata": {
        "colab": {
          "base_uri": "https://localhost:8080/"
        },
        "id": "GSgYXWLV0nms",
        "outputId": "37c65892-61f8-45b0-b8d0-a847f6cb794a"
      },
      "execution_count": 11,
      "outputs": [
        {
          "output_type": "execute_result",
          "data": {
            "text/plain": [
              "[{'entity': 'B-PER',\n",
              "  'score': 0.9924349,\n",
              "  'index': 4,\n",
              "  'word': 'Pol',\n",
              "  'start': 11,\n",
              "  'end': 14},\n",
              " {'entity': 'I-PER',\n",
              "  'score': 0.60771215,\n",
              "  'index': 5,\n",
              "  'word': '##i',\n",
              "  'start': 14,\n",
              "  'end': 15},\n",
              " {'entity': 'B-LOC',\n",
              "  'score': 0.9994031,\n",
              "  'index': 10,\n",
              "  'word': 'Vienna',\n",
              "  'start': 27,\n",
              "  'end': 33},\n",
              " {'entity': 'B-ORG',\n",
              "  'score': 0.98162085,\n",
              "  'index': 14,\n",
              "  'word': 'Hu',\n",
              "  'start': 46,\n",
              "  'end': 48},\n",
              " {'entity': 'I-ORG',\n",
              "  'score': 0.89310247,\n",
              "  'index': 15,\n",
              "  'word': '##gging',\n",
              "  'start': 48,\n",
              "  'end': 53},\n",
              " {'entity': 'I-ORG',\n",
              "  'score': 0.99590933,\n",
              "  'index': 16,\n",
              "  'word': '##F',\n",
              "  'start': 53,\n",
              "  'end': 54},\n",
              " {'entity': 'I-ORG',\n",
              "  'score': 0.8962821,\n",
              "  'index': 17,\n",
              "  'word': '##ace',\n",
              "  'start': 54,\n",
              "  'end': 57}]"
            ]
          },
          "metadata": {},
          "execution_count": 11
        }
      ]
    },
    {
      "cell_type": "code",
      "source": [
        "gr.close_all()\n",
        "demo = gr.Interface(fn=ner,\n",
        "                    inputs=[gr.Textbox(label=\"Text to find entities\", lines=2)],\n",
        "                    outputs=[gr.HighlightedText(label=\"Text with entities\")],\n",
        "                    title=\"NER with dslim/bert-base-NER\",\n",
        "                    description=\"Find entities using the `dslim/bert-base-NER` model under the hood!\",\n",
        "                    allow_flagging=\"never\",\n",
        "                    examples=[\"My name is Andrew, I'm building DeeplearningAI and I live in California\", \"My name is Poli, I live in Vienna and work at HuggingFace\"])\n",
        "\n",
        "demo.launch()"
      ],
      "metadata": {
        "colab": {
          "base_uri": "https://localhost:8080/",
          "height": 720
        },
        "id": "OeGIJbXG4rUm",
        "outputId": "a70938e2-2950-45e4-a677-fc54a17268ee"
      },
      "execution_count": 14,
      "outputs": [
        {
          "output_type": "stream",
          "name": "stdout",
          "text": [
            "Closing server running on port: 7860\n",
            "Closing server running on port: 7860\n",
            "Closing server running on port: 7860\n",
            "Closing server running on port: 7860\n",
            "Closing server running on port: 7860\n",
            "Closing server running on port: 7860\n",
            "Colab notebook detected. To show errors in colab notebook, set debug=True in launch()\n",
            "Note: opening Chrome Inspector may crash demo inside Colab notebooks.\n",
            "\n",
            "To create a public link, set `share=True` in `launch()`.\n"
          ]
        },
        {
          "output_type": "display_data",
          "data": {
            "text/plain": [
              "<IPython.core.display.Javascript object>"
            ],
            "application/javascript": [
              "(async (port, path, width, height, cache, element) => {\n",
              "                        if (!google.colab.kernel.accessAllowed && !cache) {\n",
              "                            return;\n",
              "                        }\n",
              "                        element.appendChild(document.createTextNode(''));\n",
              "                        const url = await google.colab.kernel.proxyPort(port, {cache});\n",
              "\n",
              "                        const external_link = document.createElement('div');\n",
              "                        external_link.innerHTML = `\n",
              "                            <div style=\"font-family: monospace; margin-bottom: 0.5rem\">\n",
              "                                Running on <a href=${new URL(path, url).toString()} target=\"_blank\">\n",
              "                                    https://localhost:${port}${path}\n",
              "                                </a>\n",
              "                            </div>\n",
              "                        `;\n",
              "                        element.appendChild(external_link);\n",
              "\n",
              "                        const iframe = document.createElement('iframe');\n",
              "                        iframe.src = new URL(path, url).toString();\n",
              "                        iframe.height = height;\n",
              "                        iframe.allow = \"autoplay; camera; microphone; clipboard-read; clipboard-write;\"\n",
              "                        iframe.width = width;\n",
              "                        iframe.style.border = 0;\n",
              "                        element.appendChild(iframe);\n",
              "                    })(7860, \"/\", \"100%\", 500, false, window.element)"
            ]
          },
          "metadata": {}
        },
        {
          "output_type": "execute_result",
          "data": {
            "text/plain": []
          },
          "metadata": {},
          "execution_count": 14
        }
      ]
    },
    {
      "cell_type": "markdown",
      "source": [
        "# 3. Application: Text to Image"
      ],
      "metadata": {
        "id": "sYIhFCS46kzi"
      }
    },
    {
      "cell_type": "code",
      "source": [
        "pipeline = DiffusionPipeline.from_pretrained(\"runwayml/stable-diffusion-v1-5\")\n",
        "\n",
        "def get_completion(prompt):\n",
        "    return pipeline(prompt).images[0]\n",
        "\n",
        "prompt = \"a dog in a park\"\n",
        "\n",
        "result = get_completion(prompt)\n",
        "IPython.display.HTML(f'<img src=\"data:image/png;base64,{result}\" />')"
      ],
      "metadata": {
        "id": "dQTdBNhx6pXa"
      },
      "execution_count": null,
      "outputs": []
    },
    {
      "cell_type": "markdown",
      "source": [
        "### 3.1 Image as Output"
      ],
      "metadata": {
        "id": "3fjefCAy8qDa"
      }
    },
    {
      "cell_type": "code",
      "source": [
        "gr.close_all()\n",
        "demo = gr.Interface(fn=get_completion,\n",
        "                    inputs=[gr.Textbox(label=\"Your prompt\")],\n",
        "                    outputs=[gr.Image(label=\"Result\")], # image output\n",
        "                    title=\"Image Generation with Stable Diffusion\",\n",
        "                    description=\"Generate any image with Stable Diffusion\",\n",
        "                    allow_flagging=\"never\",\n",
        "                    examples=[\"the spirit of a tamagotchi wandering in the city of Vienna\",\"a mecha robot in a favela\"])\n",
        "\n",
        "demo.launch()"
      ],
      "metadata": {
        "id": "TszRyIQS8moD"
      },
      "execution_count": null,
      "outputs": []
    },
    {
      "cell_type": "markdown",
      "source": [
        "### 3.2 Slidebars"
      ],
      "metadata": {
        "id": "k9KBzVpp9M-V"
      }
    },
    {
      "cell_type": "code",
      "source": [
        "def generate(prompt, negative_prompt, steps, guidance, width, height):\n",
        "    params = {\n",
        "        \"negative_prompt\": negative_prompt,\n",
        "        \"num_inference_steps\": steps,\n",
        "        \"guidance_scale\": guidance,\n",
        "        \"width\": width,\n",
        "        \"height\": height\n",
        "    }\n",
        "\n",
        "    output = get_completion(prompt, params)\n",
        "    return output\n",
        "\n",
        "gr.close_all()\n",
        "demo = gr.Interface(fn=generate,\n",
        "                    inputs=[\n",
        "                        gr.Textbox(label=\"Your prompt\"),\n",
        "                        gr.Textbox(label=\"Negative prompt\"),\n",
        "                        # adding slidebars in input to control the output\n",
        "                        gr.Slider(label=\"Inference Steps\", minimum=1, maximum=100, value=25,\n",
        "                                 info=\"In how many steps will the denoiser denoise the image?\"),\n",
        "                        gr.Slider(label=\"Guidance Scale\", minimum=1, maximum=20, value=7,\n",
        "                                  info=\"Controls how much the text prompt influences the result\"),\n",
        "                        gr.Slider(label=\"Width\", minimum=64, maximum=512, step=64, value=512),\n",
        "                        gr.Slider(label=\"Height\", minimum=64, maximum=512, step=64, value=512),\n",
        "                    ],\n",
        "                    outputs=[gr.Image(label=\"Result\")],\n",
        "                    title=\"Image Generation with Stable Diffusion\",\n",
        "                    description=\"Generate any image with Stable Diffusion\",\n",
        "                    allow_flagging=\"never\"\n",
        "                    )\n",
        "\n",
        "demo.launch()"
      ],
      "metadata": {
        "id": "p5kmV0bj9Oph"
      },
      "execution_count": null,
      "outputs": []
    },
    {
      "cell_type": "markdown",
      "source": [
        "### 3.3 Gradio Blocks"
      ],
      "metadata": {
        "id": "1LuXKggJ9mPF"
      }
    },
    {
      "cell_type": "code",
      "source": [
        "# organizing UI with gradio blocks\n",
        "with gr.Blocks() as demo:\n",
        "    gr.Markdown(\"# Image Generation with Stable Diffusion\")\n",
        "    prompt = gr.Textbox(label=\"Your prompt\")\n",
        "    with gr.Row():\n",
        "        with gr.Column():\n",
        "            negative_prompt = gr.Textbox(label=\"Negative prompt\")\n",
        "            steps = gr.Slider(label=\"Inference Steps\", minimum=1, maximum=100, value=25,\n",
        "                      info=\"In many steps will the denoiser denoise the image?\")\n",
        "            guidance = gr.Slider(label=\"Guidance Scale\", minimum=1, maximum=20, value=7,\n",
        "                      info=\"Controls how much the text prompt influences the result\")\n",
        "            width = gr.Slider(label=\"Width\", minimum=64, maximum=512, step=64, value=512)\n",
        "            height = gr.Slider(label=\"Height\", minimum=64, maximum=512, step=64, value=512)\n",
        "            btn = gr.Button(\"Submit\")\n",
        "        with gr.Column():\n",
        "            output = gr.Image(label=\"Result\")\n",
        "\n",
        "    btn.click(fn=generate, inputs=[prompt,negative_prompt,steps,guidance,width,height], outputs=[output])\n",
        "gr.close_all()\n",
        "demo.launch()"
      ],
      "metadata": {
        "id": "gwpmakg59oms"
      },
      "execution_count": null,
      "outputs": []
    },
    {
      "cell_type": "markdown",
      "source": [
        "### 3.4 Advanced Gradio Blocks"
      ],
      "metadata": {
        "id": "rq7eVsNR-NXp"
      }
    },
    {
      "cell_type": "code",
      "source": [
        "with gr.Blocks() as demo:\n",
        "    gr.Markdown(\"# Image Generation with Stable Diffusion\")\n",
        "    with gr.Row():\n",
        "        with gr.Column(scale=4):\n",
        "            prompt = gr.Textbox(label=\"Your prompt\")\n",
        "        with gr.Column(scale=1, min_width=50):\n",
        "            btn = gr.Button(\"Submit\") # submit button side by side!\n",
        "    with gr.Accordion(\"Advanced options\", open=False): # hide the advanced options with open=false\n",
        "            negative_prompt = gr.Textbox(label=\"Negative prompt\")\n",
        "            with gr.Row():\n",
        "                with gr.Column():\n",
        "                    steps = gr.Slider(label=\"Inference Steps\", minimum=1, maximum=100, value=25,\n",
        "                      info=\"In many steps will the denoiser denoise the image?\")\n",
        "                    guidance = gr.Slider(label=\"Guidance Scale\", minimum=1, maximum=20, value=7,\n",
        "                      info=\"Controls how much the text prompt influences the result\")\n",
        "                with gr.Column():\n",
        "                    width = gr.Slider(label=\"Width\", minimum=64, maximum=512, step=64, value=512)\n",
        "                    height = gr.Slider(label=\"Height\", minimum=64, maximum=512, step=64, value=512)\n",
        "    output = gr.Image(label=\"Result\") #Move the output up too\n",
        "\n",
        "    btn.click(fn=generate, inputs=[prompt,negative_prompt,steps,guidance,width,height], outputs=[output])\n",
        "\n",
        "gr.close_all()\n",
        "demo.launch()"
      ],
      "metadata": {
        "id": "o5MXc0Wu-QII"
      },
      "execution_count": null,
      "outputs": []
    },
    {
      "cell_type": "markdown",
      "source": [
        "# 4. Application: Gradio Chatbot"
      ],
      "metadata": {
        "id": "iqxxLCwzCFUl"
      }
    },
    {
      "cell_type": "code",
      "source": [
        "def respond(message, chat_history):\n",
        "        # no LLM here, just respond with a random pre-made message\n",
        "        bot_message = random.choice([\"Tell me more about it\",\n",
        "                                     \"Cool, but I'm not interested\",\n",
        "                                     \"Hmmmm, ok then\"])\n",
        "        chat_history.append((message, bot_message))\n",
        "        return \"\", chat_history\n",
        "\n",
        "with gr.Blocks() as demo:\n",
        "    chatbot = gr.Chatbot(height=240)\n",
        "    msg = gr.Textbox(label=\"Prompt\")\n",
        "    btn = gr.Button(\"Submit\")\n",
        "    clear = gr.ClearButton(components=[msg, chatbot], value=\"Clear console\")\n",
        "    btn.click(respond, inputs=[msg, chatbot], outputs=[msg, chatbot])\n",
        "    msg.submit(respond, inputs=[msg, chatbot], outputs=[msg, chatbot]) # press enter to submit\n",
        "\n",
        "gr.close_all()\n",
        "demo.launch()"
      ],
      "metadata": {
        "id": "x6YSy0ODCI0d"
      },
      "execution_count": null,
      "outputs": []
    },
    {
      "cell_type": "code",
      "source": [
        "gr.close_all()"
      ],
      "metadata": {
        "id": "CD3EEhkFFXp1"
      },
      "execution_count": null,
      "outputs": []
    }
  ]
}