{
 "cells": [
  {
   "cell_type": "markdown",
   "metadata": {},
   "source": [
    "This notebook is focused on interacting with the Revelry API, which is an API for a social media platform. In the notebook, Python code is written that calls various endpoints of the Revelry API, retrieves data, and manipulates it in various ways. Please refer <a href='https://www.ravelry.com/api#index'>Revelry API</a> documentation for more details."
   ]
  },
  {
   "cell_type": "code",
   "execution_count": 1,
   "metadata": {},
   "outputs": [],
   "source": [
    "# import required libraries\n",
    "import http.client\n",
    "import json\n",
    "import requests\n",
    "import pandas as pd\n",
    "import utils # helper class"
   ]
  },
  {
   "cell_type": "code",
   "execution_count": 2,
   "metadata": {},
   "outputs": [],
   "source": [
    "# load API token username and password\n",
    "# Note: Make sure to create your own username and password.\n",
    "authUsername = '####'\n",
    "authPassword = '####'"
   ]
  },
  {
   "cell_type": "code",
   "execution_count": 3,
   "metadata": {},
   "outputs": [],
   "source": [
    "# define an instance of the class\n",
    "api_instance = utils.HelperRaveleryAPIs(authUsername, authPassword)"
   ]
  },
  {
   "cell_type": "code",
   "execution_count": 4,
   "metadata": {},
   "outputs": [
    {
     "data": {
      "text/html": [
       "<div>\n",
       "<style scoped>\n",
       "    .dataframe tbody tr th:only-of-type {\n",
       "        vertical-align: middle;\n",
       "    }\n",
       "\n",
       "    .dataframe tbody tr th {\n",
       "        vertical-align: top;\n",
       "    }\n",
       "\n",
       "    .dataframe thead th {\n",
       "        text-align: right;\n",
       "    }\n",
       "</style>\n",
       "<table border=\"1\" class=\"dataframe\">\n",
       "  <thead>\n",
       "    <tr style=\"text-align: right;\">\n",
       "      <th></th>\n",
       "      <th>color</th>\n",
       "      <th>id</th>\n",
       "      <th>name</th>\n",
       "      <th>permalink</th>\n",
       "      <th>spectrum_order</th>\n",
       "    </tr>\n",
       "  </thead>\n",
       "  <tbody>\n",
       "    <tr>\n",
       "      <th>0</th>\n",
       "      <td>None</td>\n",
       "      <td>1</td>\n",
       "      <td>Yellow</td>\n",
       "      <td>Yellow</td>\n",
       "      <td>1</td>\n",
       "    </tr>\n",
       "    <tr>\n",
       "      <th>1</th>\n",
       "      <td>None</td>\n",
       "      <td>2</td>\n",
       "      <td>Yellow-orange</td>\n",
       "      <td>Yellow-orange</td>\n",
       "      <td>2</td>\n",
       "    </tr>\n",
       "    <tr>\n",
       "      <th>2</th>\n",
       "      <td>None</td>\n",
       "      <td>3</td>\n",
       "      <td>Orange</td>\n",
       "      <td>Orange</td>\n",
       "      <td>3</td>\n",
       "    </tr>\n",
       "    <tr>\n",
       "      <th>3</th>\n",
       "      <td>None</td>\n",
       "      <td>4</td>\n",
       "      <td>Red-orange</td>\n",
       "      <td>Red-orange</td>\n",
       "      <td>4</td>\n",
       "    </tr>\n",
       "    <tr>\n",
       "      <th>4</th>\n",
       "      <td>None</td>\n",
       "      <td>5</td>\n",
       "      <td>Red</td>\n",
       "      <td>Red</td>\n",
       "      <td>5</td>\n",
       "    </tr>\n",
       "    <tr>\n",
       "      <th>5</th>\n",
       "      <td>None</td>\n",
       "      <td>6</td>\n",
       "      <td>Red-purple</td>\n",
       "      <td>Red-purple</td>\n",
       "      <td>0</td>\n",
       "    </tr>\n",
       "    <tr>\n",
       "      <th>6</th>\n",
       "      <td>None</td>\n",
       "      <td>7</td>\n",
       "      <td>Purple</td>\n",
       "      <td>Purple</td>\n",
       "      <td>8</td>\n",
       "    </tr>\n",
       "    <tr>\n",
       "      <th>7</th>\n",
       "      <td>None</td>\n",
       "      <td>8</td>\n",
       "      <td>Blue-purple</td>\n",
       "      <td>Blue-purple</td>\n",
       "      <td>9</td>\n",
       "    </tr>\n",
       "    <tr>\n",
       "      <th>8</th>\n",
       "      <td>None</td>\n",
       "      <td>9</td>\n",
       "      <td>Blue</td>\n",
       "      <td>Blue</td>\n",
       "      <td>10</td>\n",
       "    </tr>\n",
       "    <tr>\n",
       "      <th>9</th>\n",
       "      <td>None</td>\n",
       "      <td>10</td>\n",
       "      <td>Blue-green</td>\n",
       "      <td>Blue-green</td>\n",
       "      <td>11</td>\n",
       "    </tr>\n",
       "    <tr>\n",
       "      <th>10</th>\n",
       "      <td>None</td>\n",
       "      <td>11</td>\n",
       "      <td>Green</td>\n",
       "      <td>Green</td>\n",
       "      <td>12</td>\n",
       "    </tr>\n",
       "    <tr>\n",
       "      <th>11</th>\n",
       "      <td>None</td>\n",
       "      <td>12</td>\n",
       "      <td>Yellow-green</td>\n",
       "      <td>Yellow-green</td>\n",
       "      <td>13</td>\n",
       "    </tr>\n",
       "    <tr>\n",
       "      <th>12</th>\n",
       "      <td>None</td>\n",
       "      <td>13</td>\n",
       "      <td>Black</td>\n",
       "      <td>Black</td>\n",
       "      <td>14</td>\n",
       "    </tr>\n",
       "    <tr>\n",
       "      <th>13</th>\n",
       "      <td>None</td>\n",
       "      <td>14</td>\n",
       "      <td>White</td>\n",
       "      <td>White</td>\n",
       "      <td>15</td>\n",
       "    </tr>\n",
       "    <tr>\n",
       "      <th>14</th>\n",
       "      <td>None</td>\n",
       "      <td>15</td>\n",
       "      <td>Gray</td>\n",
       "      <td>Gray</td>\n",
       "      <td>16</td>\n",
       "    </tr>\n",
       "    <tr>\n",
       "      <th>15</th>\n",
       "      <td>None</td>\n",
       "      <td>16</td>\n",
       "      <td>Brown</td>\n",
       "      <td>Brown</td>\n",
       "      <td>17</td>\n",
       "    </tr>\n",
       "    <tr>\n",
       "      <th>16</th>\n",
       "      <td>None</td>\n",
       "      <td>17</td>\n",
       "      <td>Pink</td>\n",
       "      <td>Pink</td>\n",
       "      <td>18</td>\n",
       "    </tr>\n",
       "    <tr>\n",
       "      <th>17</th>\n",
       "      <td>None</td>\n",
       "      <td>18</td>\n",
       "      <td>Natural/Undyed</td>\n",
       "      <td>Natural/Undyed</td>\n",
       "      <td>19</td>\n",
       "    </tr>\n",
       "    <tr>\n",
       "      <th>18</th>\n",
       "      <td>None</td>\n",
       "      <td>19</td>\n",
       "      <td>Multicolored</td>\n",
       "      <td>Multicolored</td>\n",
       "      <td>21</td>\n",
       "    </tr>\n",
       "    <tr>\n",
       "      <th>19</th>\n",
       "      <td>None</td>\n",
       "      <td>20</td>\n",
       "      <td>Rainbow\\t</td>\n",
       "      <td>Rainbow</td>\n",
       "      <td>20</td>\n",
       "    </tr>\n",
       "  </tbody>\n",
       "</table>\n",
       "</div>"
      ],
      "text/plain": [
       "   color  id            name       permalink  spectrum_order\n",
       "0   None   1          Yellow          Yellow               1\n",
       "1   None   2   Yellow-orange   Yellow-orange               2\n",
       "2   None   3          Orange          Orange               3\n",
       "3   None   4      Red-orange      Red-orange               4\n",
       "4   None   5             Red             Red               5\n",
       "5   None   6      Red-purple      Red-purple               0\n",
       "6   None   7          Purple          Purple               8\n",
       "7   None   8     Blue-purple     Blue-purple               9\n",
       "8   None   9            Blue            Blue              10\n",
       "9   None  10      Blue-green      Blue-green              11\n",
       "10  None  11           Green           Green              12\n",
       "11  None  12    Yellow-green    Yellow-green              13\n",
       "12  None  13           Black           Black              14\n",
       "13  None  14           White           White              15\n",
       "14  None  15            Gray            Gray              16\n",
       "15  None  16           Brown           Brown              17\n",
       "16  None  17            Pink            Pink              18\n",
       "17  None  18  Natural/Undyed  Natural/Undyed              19\n",
       "18  None  19    Multicolored    Multicolored              21\n",
       "19  None  20       Rainbow\\t         Rainbow              20"
      ]
     },
     "metadata": {},
     "output_type": "display_data"
    }
   ],
   "source": [
    "# get color families\n",
    "color_families = api_instance.get_color_families()\n",
    "display(color_families)"
   ]
  },
  {
   "cell_type": "code",
   "execution_count": 5,
   "metadata": {},
   "outputs": [
    {
     "name": "stdout",
     "output_type": "stream",
     "text": [
      "get_patterns columns: Index(['free', 'id', 'name', 'permalink', 'personal_attributes', 'first_photo',\n",
      "       'designer', 'pattern_author', 'pattern_sources'],\n",
      "      dtype='object')\n",
      "top pattern names:\n"
     ]
    },
    {
     "data": {
      "text/plain": [
       "0                            Sophie Scarf\n",
       "1                                  Valgus\n",
       "2                       Celtic Rain Socks\n",
       "3                                  Leicht\n",
       "4     Twists & Turns: Westknits MKAL 2022\n",
       "                     ...                 \n",
       "95                   Anker's Summer Shirt\n",
       "96                         Ingrid Sweater\n",
       "97                   Dragons scales socks\n",
       "98                Gnot Just Another Gnome\n",
       "99                      Inclinations Cowl\n",
       "Name: name, Length: 100, dtype: object"
      ]
     },
     "metadata": {},
     "output_type": "display_data"
    }
   ],
   "source": [
    "# get top patterns\n",
    "top_hat_patterns = api_instance.get_patterns(query = 'hat', page = 15, page_size = 2) \n",
    "top_patterns = api_instance.get_patterns()\n",
    "print(\"get_patterns columns: {}\".format(top_patterns.columns))\n",
    "print(\"top pattern names:\" )\n",
    "display(top_patterns['name'])"
   ]
  },
  {
   "cell_type": "code",
   "execution_count": 6,
   "metadata": {},
   "outputs": [
    {
     "name": "stdout",
     "output_type": "stream",
     "text": [
      "queued_patterns columns: Index(['created_at', 'id', 'pattern_id', 'skeins', 'sort_order', 'user_id',\n",
      "       'yarn_id', 'name', 'pattern_name', 'short_pattern_name', 'yarn_name',\n",
      "       'pattern_author_id', 'pattern_author_name', 'best_photo', 'notes',\n",
      "       'position_in_queue'],\n",
      "      dtype='object')\n",
      "items in queue: 958\n"
     ]
    }
   ],
   "source": [
    "# get queued patterns\n",
    "queued_patterns = api_instance.get_queue(rav_username = 'rieslingm', page_size = 1000)\n",
    "print(\"queued_patterns columns: {}\".format(queued_patterns.columns))\n",
    "print(\"items in queue: {}\".format(len(queued_patterns)))"
   ]
  },
  {
   "cell_type": "code",
   "execution_count": 7,
   "metadata": {},
   "outputs": [
    {
     "name": "stdout",
     "output_type": "stream",
     "text": [
      "403 Forbidden. This is not a read only API method.\n"
     ]
    },
    {
     "ename": "JSONDecodeError",
     "evalue": "Extra data: line 1 column 5 (char 4)",
     "output_type": "error",
     "traceback": [
      "\u001b[1;31m---------------------------------------------------------------------------\u001b[0m",
      "\u001b[1;31mJSONDecodeError\u001b[0m                           Traceback (most recent call last)",
      "Cell \u001b[1;32mIn[7], line 2\u001b[0m\n\u001b[0;32m      1\u001b[0m \u001b[38;5;66;03m# get favourites\u001b[39;00m\n\u001b[1;32m----> 2\u001b[0m favorite_patterns \u001b[38;5;241m=\u001b[39m \u001b[43mapi_instance\u001b[49m\u001b[38;5;241;43m.\u001b[39;49m\u001b[43mget_favorites\u001b[49m\u001b[43m(\u001b[49m\u001b[43mrav_username\u001b[49m\u001b[43m \u001b[49m\u001b[38;5;241;43m=\u001b[39;49m\u001b[43m \u001b[49m\u001b[38;5;124;43m'\u001b[39;49m\u001b[38;5;124;43mrieslingm\u001b[39;49m\u001b[38;5;124;43m'\u001b[39;49m\u001b[43m)\u001b[49m\n\u001b[0;32m      3\u001b[0m \u001b[38;5;28mprint\u001b[39m(\u001b[38;5;124m\"\u001b[39m\u001b[38;5;124mfavorite_patterns columns: \u001b[39m\u001b[38;5;132;01m{}\u001b[39;00m\u001b[38;5;124m\"\u001b[39m\u001b[38;5;241m.\u001b[39mformat(favorite_patterns\u001b[38;5;241m.\u001b[39mcolumns))\n",
      "File \u001b[1;32me:\\Kaustubh\\Revelry API\\utils.py:61\u001b[0m, in \u001b[0;36mHelperRaveleryAPIs.get_favorites\u001b[1;34m(self, rav_username, types, query, deep_search, page, page_size)\u001b[0m\n\u001b[0;32m     57\u001b[0m r1\u001b[39m.\u001b[39mclose()\n\u001b[0;32m     59\u001b[0m \u001b[39mprint\u001b[39m(r1\u001b[39m.\u001b[39mtext)\n\u001b[1;32m---> 61\u001b[0m \u001b[39mreturn\u001b[39;00m json\u001b[39m.\u001b[39;49mloads(r1\u001b[39m.\u001b[39;49mtext)[types]\n",
      "File \u001b[1;32mc:\\Users\\Arun Bhavsar\\AppData\\Local\\Programs\\Python\\Python38\\lib\\json\\__init__.py:357\u001b[0m, in \u001b[0;36mloads\u001b[1;34m(s, cls, object_hook, parse_float, parse_int, parse_constant, object_pairs_hook, **kw)\u001b[0m\n\u001b[0;32m    352\u001b[0m     \u001b[39mdel\u001b[39;00m kw[\u001b[39m'\u001b[39m\u001b[39mencoding\u001b[39m\u001b[39m'\u001b[39m]\n\u001b[0;32m    354\u001b[0m \u001b[39mif\u001b[39;00m (\u001b[39mcls\u001b[39m \u001b[39mis\u001b[39;00m \u001b[39mNone\u001b[39;00m \u001b[39mand\u001b[39;00m object_hook \u001b[39mis\u001b[39;00m \u001b[39mNone\u001b[39;00m \u001b[39mand\u001b[39;00m\n\u001b[0;32m    355\u001b[0m         parse_int \u001b[39mis\u001b[39;00m \u001b[39mNone\u001b[39;00m \u001b[39mand\u001b[39;00m parse_float \u001b[39mis\u001b[39;00m \u001b[39mNone\u001b[39;00m \u001b[39mand\u001b[39;00m\n\u001b[0;32m    356\u001b[0m         parse_constant \u001b[39mis\u001b[39;00m \u001b[39mNone\u001b[39;00m \u001b[39mand\u001b[39;00m object_pairs_hook \u001b[39mis\u001b[39;00m \u001b[39mNone\u001b[39;00m \u001b[39mand\u001b[39;00m \u001b[39mnot\u001b[39;00m kw):\n\u001b[1;32m--> 357\u001b[0m     \u001b[39mreturn\u001b[39;00m _default_decoder\u001b[39m.\u001b[39;49mdecode(s)\n\u001b[0;32m    358\u001b[0m \u001b[39mif\u001b[39;00m \u001b[39mcls\u001b[39m \u001b[39mis\u001b[39;00m \u001b[39mNone\u001b[39;00m:\n\u001b[0;32m    359\u001b[0m     \u001b[39mcls\u001b[39m \u001b[39m=\u001b[39m JSONDecoder\n",
      "File \u001b[1;32mc:\\Users\\Arun Bhavsar\\AppData\\Local\\Programs\\Python\\Python38\\lib\\json\\decoder.py:340\u001b[0m, in \u001b[0;36mJSONDecoder.decode\u001b[1;34m(self, s, _w)\u001b[0m\n\u001b[0;32m    338\u001b[0m end \u001b[39m=\u001b[39m _w(s, end)\u001b[39m.\u001b[39mend()\n\u001b[0;32m    339\u001b[0m \u001b[39mif\u001b[39;00m end \u001b[39m!=\u001b[39m \u001b[39mlen\u001b[39m(s):\n\u001b[1;32m--> 340\u001b[0m     \u001b[39mraise\u001b[39;00m JSONDecodeError(\u001b[39m\"\u001b[39m\u001b[39mExtra data\u001b[39m\u001b[39m\"\u001b[39m, s, end)\n\u001b[0;32m    341\u001b[0m \u001b[39mreturn\u001b[39;00m obj\n",
      "\u001b[1;31mJSONDecodeError\u001b[0m: Extra data: line 1 column 5 (char 4)"
     ]
    }
   ],
   "source": [
    "# get favourites\n",
    "favorite_patterns = api_instance.get_favorites(rav_username = 'rieslingm')\n",
    "print(\"favorite_patterns columns: {}\".format(favorite_patterns.columns))"
   ]
  },
  {
   "cell_type": "markdown",
   "metadata": {},
   "source": [
    "Debugging:\n",
    "\n",
    "Above code fails as it needs authenticated credentials and we have only read only credentials. \n",
    "Two errors received in above code:\n",
    "1.  403: This is not read only API method and required authenticated credentials.\n",
    "2.  JSONDecodeError: Due to assumption that output is specific format. Could be solved using try catch or a case statement."
   ]
  }
 ],
 "metadata": {
  "kernelspec": {
   "display_name": "Python 3.8.10 64-bit",
   "language": "python",
   "name": "python3"
  },
  "language_info": {
   "codemirror_mode": {
    "name": "ipython",
    "version": 3
   },
   "file_extension": ".py",
   "mimetype": "text/x-python",
   "name": "python",
   "nbconvert_exporter": "python",
   "pygments_lexer": "ipython3",
   "version": "3.8.10"
  },
  "orig_nbformat": 4,
  "vscode": {
   "interpreter": {
    "hash": "35b47ede3747be90cf12328a8d74db806cbb18e167d9fee43fe8bdcfca19407a"
   }
  }
 },
 "nbformat": 4,
 "nbformat_minor": 2
}
