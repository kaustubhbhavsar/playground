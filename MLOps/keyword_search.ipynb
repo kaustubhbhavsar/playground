{
  "nbformat": 4,
  "nbformat_minor": 0,
  "metadata": {
    "colab": {
      "provenance": []
    },
    "kernelspec": {
      "name": "python3",
      "display_name": "Python 3"
    },
    "language_info": {
      "name": "python"
    }
  },
  "cells": [
    {
      "cell_type": "markdown",
      "source": [
        "AIM: To search for a keyword at a given URL using BeautifulSoup."
      ],
      "metadata": {
        "id": "d9_MLKehnZbb"
      }
    },
    {
      "cell_type": "code",
      "source": [
        "import requests\n",
        "from bs4 import BeautifulSoup\n",
        "import re"
      ],
      "metadata": {
        "id": "r_lVZ8HfiNhD"
      },
      "execution_count": 1,
      "outputs": []
    },
    {
      "cell_type": "code",
      "source": [
        "def check_for_keywords(text):\n",
        "  '''\n",
        "  Function to search for keyword in the extracted html page.\n",
        "  '''\n",
        "  if re.search(r'\\bmachine learning\\b', text, re.IGNORECASE):\n",
        "    return 'machine learning'\n",
        "  elif re.search(r'\\bML\\b', text, re.IGNORECASE):\n",
        "    return 'ML'\n",
        "  else:\n",
        "    return None"
      ],
      "metadata": {
        "id": "vs01d58NkefU"
      },
      "execution_count": 2,
      "outputs": []
    },
    {
      "cell_type": "code",
      "source": [
        "def print_answer(checking_keyword):\n",
        "  '''\n",
        "  Function to print answers.\n",
        "  '''\n",
        "  print(f'Did we found the keyword?')\n",
        "  if checking_keyword:\n",
        "    print('Yes')\n",
        "  else:\n",
        "    print('No')"
      ],
      "metadata": {
        "id": "_1TsjTRCmUMR"
      },
      "execution_count": 3,
      "outputs": []
    },
    {
      "cell_type": "code",
      "execution_count": 4,
      "metadata": {
        "colab": {
          "base_uri": "https://localhost:8080/"
        },
        "id": "fCUpDC9Ah9Wg",
        "outputId": "ba36c9b0-b80a-4ee6-da19-8f5d7af885be"
      },
      "outputs": [
        {
          "output_type": "stream",
          "name": "stdout",
          "text": [
            "Did we found the keyword?\n",
            "Yes\n"
          ]
        }
      ],
      "source": [
        "url = 'https://neptune.ai/blog/how-to-monitor-your-models-in-production-guide' # URL to search keyword at\n",
        "\n",
        "try:\n",
        "  request = requests.get(url)\n",
        "  html_page = request.text # get entire page in html\n",
        "  soup = BeautifulSoup(html_page, 'html.parser')\n",
        "  text = soup.get_text() # extract all text from the html page\n",
        "  checking_keyword = check_for_keywords(text) # check for keywords\n",
        "  print_answer(checking_keyword) # print if keyword found or not\n",
        "except:\n",
        "  print(f'An exception has occured.')\n"
      ]
    }
  ]
}